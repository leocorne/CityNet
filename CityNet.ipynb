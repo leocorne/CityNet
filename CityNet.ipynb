{
 "cells": [
  {
   "cell_type": "code",
   "execution_count": 1,
   "metadata": {},
   "outputs": [
    {
     "name": "stdout",
     "output_type": "stream",
     "text": [
      "^C\n"
     ]
    }
   ],
   "source": [
    "!pip install -r https://raw.githubusercontent.com/Lasagne/Lasagne/v0.1/requirements.txt\n",
    "# pip install Lasagne==0.1\n",
    "# pip install --upgrade https://github.com/Lasagne/Lasagne/archive/master.zip\n",
    "# pip install nolearn\n",
    "# pip install librosa\n",
    "# pip install easydict\n",
    "# pip install tqdm\n",
    "# pip install git+git://github.com/mdfirman/ml_helpers.git@master"
   ]
  },
  {
   "cell_type": "code",
   "execution_count": null,
   "metadata": {},
   "outputs": [],
   "source": []
  }
 ],
 "metadata": {
  "kernelspec": {
   "display_name": "Python 2",
   "language": "python",
   "name": "python2"
  },
  "language_info": {
   "codemirror_mode": {
    "name": "ipython",
    "version": 2
   },
   "file_extension": ".py",
   "mimetype": "text/x-python",
   "name": "python",
   "nbconvert_exporter": "python",
   "pygments_lexer": "ipython2",
   "version": "2.7.18"
  }
 },
 "nbformat": 4,
 "nbformat_minor": 2
}
